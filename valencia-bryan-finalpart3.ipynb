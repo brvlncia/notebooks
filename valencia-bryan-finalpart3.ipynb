{
 "cells": [
  {
   "cell_type": "code",
   "execution_count": null,
   "metadata": {},
   "outputs": [],
   "source": [
    "import altair as alt\n",
    "import pandas as pd"
   ]
  },
  {
   "cell_type": "code",
   "execution_count": null,
   "metadata": {},
   "outputs": [],
   "source": [
    "players = pd.read_csv(\"https://media.githubusercontent.com/media/brvlncia/notebooks/main/players.csv\")\n",
    "appearances = pd.read_csv(\"https://media.githubusercontent.com/media/brvlncia/notebooks/main/appearances.csv\")\n",
    "competition = pd.read_csv(\"https://media.githubusercontent.com/media/brvlncia/notebooks/main/competitions.csv\")"
   ]
  },
  {
   "cell_type": "code",
   "execution_count": null,
   "metadata": {},
   "outputs": [],
   "source": [
    "df = appearances.merge(players, on=['player_id'])\n",
    "df = competition.merge(df, on=['competition_id'])"
   ]
  },
  {
   "cell_type": "code",
   "execution_count": null,
   "metadata": {
    "scrolled": true
   },
   "outputs": [],
   "source": [
    "df"
   ]
  },
  {
   "cell_type": "code",
   "execution_count": null,
   "metadata": {},
   "outputs": [],
   "source": [
    "df = df[['player_id','player_club_id','date',\n",
    "         'player_pretty_name','pretty_name_x','yellow_cards','red_cards',\n",
    "         'goals', 'assists', 'minutes_played', 'country_of_birth',\n",
    "         'club_pretty_name','position','country_latitude','country_longitude', 'last_season']].dropna()"
   ]
  },
  {
   "cell_type": "code",
   "execution_count": null,
   "metadata": {},
   "outputs": [],
   "source": [
    "df"
   ]
  },
  {
   "cell_type": "code",
   "execution_count": null,
   "metadata": {},
   "outputs": [],
   "source": [
    "alt.data_transformers.disable_max_rows()"
   ]
  },
  {
   "cell_type": "code",
   "execution_count": null,
   "metadata": {},
   "outputs": [],
   "source": [
    "country = df.groupby(['country_of_birth', 'last_season']).agg({'yellow_cards': ['sum'], 'red_cards': ['sum'], 'goals': ['sum'], 'assists': ['sum']}).reset_index()"
   ]
  },
  {
   "cell_type": "code",
   "execution_count": null,
   "metadata": {},
   "outputs": [],
   "source": [
    "country.columns = ['country', 'year', 'yellows','reds','goals','assists']"
   ]
  },
  {
   "cell_type": "code",
   "execution_count": null,
   "metadata": {},
   "outputs": [],
   "source": [
    "country"
   ]
  },
  {
   "cell_type": "code",
   "execution_count": null,
   "metadata": {},
   "outputs": [],
   "source": [
    "interval = alt.selection_multi(on='mouseover', nearest=True)\n",
    "\n",
    "scatter = alt.Chart(country).mark_circle(size=100).encode(\n",
    "    x='goals:Q',\n",
    "    y='assists:Q',\n",
    "    color=alt.condition(interval, 'country:N', alt.value('lightgray'))\n",
    ").add_selection(\n",
    "    interval\n",
    ")\n",
    "\n",
    "hist1 = alt.Chart(country).mark_bar().encode(\n",
    "    x='goals:Q',\n",
    "    y='country',\n",
    "    color='country'\n",
    ").transform_filter(\n",
    "    interval\n",
    ")\n",
    "\n",
    "hist2 = alt.Chart(country).mark_bar().encode(\n",
    "    x='assists:Q',\n",
    "    y='country',\n",
    "    color='country'\n",
    ").transform_filter(\n",
    "    interval\n",
    ")\n",
    "\n"
   ]
  },
  {
   "cell_type": "code",
   "execution_count": null,
   "metadata": {},
   "outputs": [],
   "source": [
    "dashboard = scatter.properties(width=300) | hist1.properties(width=300) & hist2.properties(width=300)\n",
    "dashboard"
   ]
  },
  {
   "cell_type": "code",
   "execution_count": null,
   "metadata": {},
   "outputs": [],
   "source": [
    "interval = alt.selection_interval()\n",
    "\n",
    "scatter = alt.Chart(df).mark_point().encode(\n",
    "    x='Horsepower:Q',\n",
    "    y='Miles_per_Gallon:Q',\n",
    "    color=alt.condition(interval, 'Origin:N', alt.value('lightgray'))\n",
    ").add_selection(\n",
    "    interval\n",
    ")"
   ]
  },
  {
   "cell_type": "code",
   "execution_count": null,
   "metadata": {},
   "outputs": [],
   "source": [
    "dashboard = rect_alt | hist_alt\n"
   ]
  },
  {
   "cell_type": "code",
   "execution_count": null,
   "metadata": {},
   "outputs": [],
   "source": [
    "dashboard"
   ]
  }
 ],
 "metadata": {
  "kernelspec": {
   "display_name": "Python 3 (ipykernel)",
   "language": "python",
   "name": "python3"
  },
  "language_info": {
   "codemirror_mode": {
    "name": "ipython",
    "version": 3
   },
   "file_extension": ".py",
   "mimetype": "text/x-python",
   "name": "python",
   "nbconvert_exporter": "python",
   "pygments_lexer": "ipython3",
   "version": "3.10.6"
  },
  "vscode": {
   "interpreter": {
    "hash": "fc2a51ef0a2ad19703ac79f3869315ec5afc2afb93c9dd6085cf6304b75d3c51"
   }
  }
 },
 "nbformat": 4,
 "nbformat_minor": 2
}
